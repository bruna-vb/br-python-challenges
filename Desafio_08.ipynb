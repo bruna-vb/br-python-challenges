{
  "nbformat": 4,
  "nbformat_minor": 0,
  "metadata": {
    "anaconda-cloud": {},
    "kernelspec": {
      "display_name": "Python 3",
      "language": "python",
      "name": "python3"
    },
    "language_info": {
      "codemirror_mode": {
        "name": "ipython",
        "version": 3
      },
      "file_extension": ".py",
      "mimetype": "text/x-python",
      "name": "python",
      "nbconvert_exporter": "python",
      "pygments_lexer": "ipython3",
      "version": "3.6.5"
    },
    "colab": {
      "name": "Desafio 8.ipynb",
      "provenance": [],
      "toc_visible": true,
      "include_colab_link": true
    }
  },
  "cells": [
    {
      "cell_type": "markdown",
      "metadata": {
        "id": "view-in-github",
        "colab_type": "text"
      },
      "source": [
        "<a href=\"https://colab.research.google.com/github/bruna-vb/br-python-challenges/blob/master/Desafio_08.ipynb\" target=\"_parent\"><img src=\"https://colab.research.google.com/assets/colab-badge.svg\" alt=\"Open In Colab\"/></a>"
      ]
    },
    {
      "cell_type": "markdown",
      "metadata": {
        "id": "o3tkeMDNf6Jo"
      },
      "source": [
        "### Desafio 8\n",
        "\n",
        "Escreva um script Python para encontrar as 10 palavras mais longas em um arquivo.\n",
        "\n",
        "O arquivo TXT está localizado na mesma pasta do projeto (texto.txt)."
      ]
    },
    {
      "cell_type": "code",
      "metadata": {
        "id": "EknxjSG0f6Jo"
      },
      "source": [
        "# Seu código"
      ],
      "execution_count": null,
      "outputs": []
    },
    {
      "cell_type": "code",
      "metadata": {
        "id": "nxRj9IBlq_bX",
        "outputId": "422e99dd-4754-4581-baee-b62cd7b610e5",
        "colab": {
          "base_uri": "https://localhost:8080/"
        }
      },
      "source": [
        "from google.colab import drive\n",
        "drive.mount('/content/drive')"
      ],
      "execution_count": 3,
      "outputs": [
        {
          "output_type": "stream",
          "text": [
            "Mounted at /content/drive\n"
          ],
          "name": "stdout"
        }
      ]
    },
    {
      "cell_type": "code",
      "metadata": {
        "id": "ZYbqEWBG5nKx"
      },
      "source": [
        "arquivo = open('/content/drive/MyDrive/Colab Notebooks/Desafios Python_AWARI/texto_desafio8.txt', 'r')\r\n",
        "texto_awari = arquivo.read()"
      ],
      "execution_count": 4,
      "outputs": []
    },
    {
      "cell_type": "code",
      "metadata": {
        "id": "Clvb4vOvq2G1",
        "outputId": "027ae0bc-2ea3-425d-87c5-a155ccc27c1d",
        "colab": {
          "base_uri": "https://localhost:8080/",
          "height": 86
        }
      },
      "source": [
        "texto_corrigido = texto_awari.replace('?', '').replace('\\n', '').replace(')', '').replace('(', '').replace('.', '').replace(',', '')\r\n",
        "texto_corrigido"
      ],
      "execution_count": 5,
      "outputs": [
        {
          "output_type": "execute_result",
          "data": {
            "application/vnd.google.colaboratory.intrinsic+json": {
              "type": "string"
            },
            "text/plain": [
              "'What is Python language                                                Python is a widely used high-level general-purpose interpreted dynamic programming language Its design philosophy emphasizes code readability and its syntax allows programmers to express concepts in fewer lines of code than possible in languages such as C++ or Java Python supports multiple programming paradigms including object-oriented imperative and functional programming or procedural stylesIt features a dynamic type system and automatic memory management and has a large and comprehensive standard libraryThe best way we learn anything is by practice and exercise questions We  have started this section for those beginner to intermediate who are familiar with Python'"
            ]
          },
          "metadata": {
            "tags": []
          },
          "execution_count": 5
        }
      ]
    },
    {
      "cell_type": "code",
      "metadata": {
        "id": "j_5w5uybrRfI",
        "outputId": "d910f285-63f9-46e1-8ea2-ef311ec9cba4",
        "colab": {
          "base_uri": "https://localhost:8080/"
        }
      },
      "source": [
        "lista_texto = texto_corrigido.split() #o split já me gera uma lista, não precisa transformar em lista antes\r\n",
        "print(lista_texto)"
      ],
      "execution_count": 6,
      "outputs": [
        {
          "output_type": "stream",
          "text": [
            "['What', 'is', 'Python', 'language', 'Python', 'is', 'a', 'widely', 'used', 'high-level', 'general-purpose', 'interpreted', 'dynamic', 'programming', 'language', 'Its', 'design', 'philosophy', 'emphasizes', 'code', 'readability', 'and', 'its', 'syntax', 'allows', 'programmers', 'to', 'express', 'concepts', 'in', 'fewer', 'lines', 'of', 'code', 'than', 'possible', 'in', 'languages', 'such', 'as', 'C++', 'or', 'Java', 'Python', 'supports', 'multiple', 'programming', 'paradigms', 'including', 'object-oriented', 'imperative', 'and', 'functional', 'programming', 'or', 'procedural', 'stylesIt', 'features', 'a', 'dynamic', 'type', 'system', 'and', 'automatic', 'memory', 'management', 'and', 'has', 'a', 'large', 'and', 'comprehensive', 'standard', 'libraryThe', 'best', 'way', 'we', 'learn', 'anything', 'is', 'by', 'practice', 'and', 'exercise', 'questions', 'We', 'have', 'started', 'this', 'section', 'for', 'those', 'beginner', 'to', 'intermediate', 'who', 'are', 'familiar', 'with', 'Python']\n"
          ],
          "name": "stdout"
        }
      ]
    },
    {
      "cell_type": "code",
      "metadata": {
        "id": "yqPzvpfMrUy4",
        "outputId": "ea5549fb-260a-4254-a2bc-7635a8d9b44b",
        "colab": {
          "base_uri": "https://localhost:8080/"
        }
      },
      "source": [
        "lista_ordem = sorted(lista_texto, key=len, reverse=True)\r\n",
        "print(lista_ordem)"
      ],
      "execution_count": 7,
      "outputs": [
        {
          "output_type": "stream",
          "text": [
            "['general-purpose', 'object-oriented', 'comprehensive', 'intermediate', 'interpreted', 'programming', 'readability', 'programmers', 'programming', 'programming', 'high-level', 'philosophy', 'emphasizes', 'imperative', 'functional', 'procedural', 'management', 'libraryThe', 'languages', 'paradigms', 'including', 'automatic', 'questions', 'language', 'language', 'concepts', 'possible', 'supports', 'multiple', 'stylesIt', 'features', 'standard', 'anything', 'practice', 'exercise', 'beginner', 'familiar', 'dynamic', 'express', 'dynamic', 'started', 'section', 'Python', 'Python', 'widely', 'design', 'syntax', 'allows', 'Python', 'system', 'memory', 'Python', 'fewer', 'lines', 'large', 'learn', 'those', 'What', 'used', 'code', 'code', 'than', 'such', 'Java', 'type', 'best', 'have', 'this', 'with', 'Its', 'and', 'its', 'C++', 'and', 'and', 'and', 'has', 'and', 'way', 'and', 'for', 'who', 'are', 'is', 'is', 'to', 'in', 'of', 'in', 'as', 'or', 'or', 'we', 'is', 'by', 'We', 'to', 'a', 'a', 'a']\n"
          ],
          "name": "stdout"
        }
      ]
    },
    {
      "cell_type": "code",
      "metadata": {
        "id": "jYdxdMGNrXX6",
        "outputId": "d83b0346-b73a-45a6-9227-761e3870f559",
        "colab": {
          "base_uri": "https://localhost:8080/"
        }
      },
      "source": [
        "lista_resultado = []\r\n",
        "count = 0\r\n",
        "#while len(lista_resultado)<=9: #não vai dar certo pq está contando a quantidade de itens da lista\r\n",
        "for palavra in lista_ordem:\r\n",
        "    lista_resultado.append(palavra)\r\n",
        "    if len(lista_resultado) == 10:\r\n",
        "      break\r\n",
        "print(lista_resultado)"
      ],
      "execution_count": 8,
      "outputs": [
        {
          "output_type": "stream",
          "text": [
            "['general-purpose', 'object-oriented', 'comprehensive', 'intermediate', 'interpreted', 'programming', 'readability', 'programmers', 'programming', 'programming']\n"
          ],
          "name": "stdout"
        }
      ]
    },
    {
      "cell_type": "code",
      "metadata": {
        "id": "bhwS_3lhrbJU",
        "outputId": "0f6eb975-1001-4d97-ace6-7a00fceb1996",
        "colab": {
          "base_uri": "https://localhost:8080/"
        }
      },
      "source": [
        "count = 1\r\n",
        "while count < 11:\r\n",
        "  for i in lista_resultado:\r\n",
        "    print(f'{count}ª palavra: {i} com {len(i)} caracteres')\r\n",
        "    count = count + 1 "
      ],
      "execution_count": 9,
      "outputs": [
        {
          "output_type": "stream",
          "text": [
            "1ª palavra: general-purpose com 15 caracteres\n",
            "2ª palavra: object-oriented com 15 caracteres\n",
            "3ª palavra: comprehensive com 13 caracteres\n",
            "4ª palavra: intermediate com 12 caracteres\n",
            "5ª palavra: interpreted com 11 caracteres\n",
            "6ª palavra: programming com 11 caracteres\n",
            "7ª palavra: readability com 11 caracteres\n",
            "8ª palavra: programmers com 11 caracteres\n",
            "9ª palavra: programming com 11 caracteres\n",
            "10ª palavra: programming com 11 caracteres\n"
          ],
          "name": "stdout"
        }
      ]
    },
    {
      "cell_type": "code",
      "metadata": {
        "id": "4r2050qlrd_f"
      },
      "source": [
        ""
      ],
      "execution_count": null,
      "outputs": []
    }
  ]
}