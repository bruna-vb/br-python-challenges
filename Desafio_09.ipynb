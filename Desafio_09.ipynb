{
  "nbformat": 4,
  "nbformat_minor": 0,
  "metadata": {
    "anaconda-cloud": {},
    "kernelspec": {
      "display_name": "Python 3",
      "language": "python",
      "name": "python3"
    },
    "language_info": {
      "codemirror_mode": {
        "name": "ipython",
        "version": 3
      },
      "file_extension": ".py",
      "mimetype": "text/x-python",
      "name": "python",
      "nbconvert_exporter": "python",
      "pygments_lexer": "ipython3",
      "version": "3.6.5"
    },
    "colab": {
      "name": "Desafio 9.ipynb",
      "provenance": [],
      "include_colab_link": true
    }
  },
  "cells": [
    {
      "cell_type": "markdown",
      "metadata": {
        "id": "view-in-github",
        "colab_type": "text"
      },
      "source": [
        "<a href=\"https://colab.research.google.com/github/bruna-vb/br-python-challenges/blob/master/Desafio_09.ipynb\" target=\"_parent\"><img src=\"https://colab.research.google.com/assets/colab-badge.svg\" alt=\"Open In Colab\"/></a>"
      ]
    },
    {
      "cell_type": "markdown",
      "metadata": {
        "id": "HpvTpUBGf6Jr"
      },
      "source": [
        "### Desafio 9\n",
        "\n",
        "Escreva uma função que retorne a soma dos múltiplos de 3 e 5 entre 0 e um número limite (parâmetro). Por exemplo, se o limite for 20, ele retornará a soma de 3, 5, 6, 9, 10, 12, 15, 18, 20."
      ]
    },
    {
      "cell_type": "markdown",
      "metadata": {
        "id": "0botLu_KmA8d"
      },
      "source": [
        "###Tentativa 01"
      ]
    },
    {
      "cell_type": "code",
      "metadata": {
        "id": "195C6bw-f6Js"
      },
      "source": [
        "# Seu código"
      ],
      "execution_count": null,
      "outputs": []
    },
    {
      "cell_type": "code",
      "metadata": {
        "id": "a_6aqcKp6wrN",
        "colab": {
          "base_uri": "https://localhost:8080/"
        },
        "outputId": "5e867229-e239-42fe-90c4-17cbe74fa594"
      },
      "source": [
        "#apenas para o número 3:\r\n",
        "numero_limite = 20\r\n",
        "num_3 = 3\r\n",
        "i = 0\r\n",
        "limite_atualizado = int((numero_limite) - 2)\r\n",
        "lista_teste = []\r\n",
        "while i < limite_atualizado:\r\n",
        "  multiplos_3 = num_3 + i\r\n",
        "  i = i + 3\r\n",
        "  lista_teste.append(i)\r\n",
        "print(lista_teste)"
      ],
      "execution_count": 2,
      "outputs": [
        {
          "output_type": "stream",
          "text": [
            "[3, 6, 9, 12, 15, 18]\n"
          ],
          "name": "stdout"
        }
      ]
    },
    {
      "cell_type": "code",
      "metadata": {
        "id": "6y_eQHtjmGhL",
        "outputId": "f34d7fae-2955-4fa3-8137-70d13639ea0a",
        "colab": {
          "base_uri": "https://localhost:8080/"
        }
      },
      "source": [
        "#apenas para o número 5:\r\n",
        "numero_limite = 20\r\n",
        "num_5 = 5\r\n",
        "n = 0\r\n",
        "lista_teste_5 = []\r\n",
        "limite_atualizado = int((numero_limite) - 2)\r\n",
        "while n < limite_atualizado:\r\n",
        "  multiplos_5 = num_5 + n\r\n",
        "  n = n + 5\r\n",
        "  lista_teste_5.append(n)\r\n",
        "print(lista_teste_5)"
      ],
      "execution_count": 3,
      "outputs": [
        {
          "output_type": "stream",
          "text": [
            "[5, 10, 15, 20]\n"
          ],
          "name": "stdout"
        }
      ]
    },
    {
      "cell_type": "code",
      "metadata": {
        "id": "3V1Df-c3mNHD",
        "outputId": "17ed16bc-152e-4f50-8a92-ee32274b7f6b",
        "colab": {
          "base_uri": "https://localhost:8080/"
        }
      },
      "source": [
        "join = set(lista_teste + lista_teste_5)\r\n",
        "#print(join)\r\n",
        "sum(join)"
      ],
      "execution_count": 4,
      "outputs": [
        {
          "output_type": "execute_result",
          "data": {
            "text/plain": [
              "98"
            ]
          },
          "metadata": {
            "tags": []
          },
          "execution_count": 4
        }
      ]
    },
    {
      "cell_type": "markdown",
      "metadata": {
        "id": "C2rKOJQXmUu4"
      },
      "source": [
        "###Tentativa 2:"
      ]
    },
    {
      "cell_type": "code",
      "metadata": {
        "id": "uE3hxHXemPob",
        "outputId": "9798fcbd-9a49-4a28-8f16-867cd3359bba",
        "colab": {
          "base_uri": "https://localhost:8080/"
        }
      },
      "source": [
        "soma = 0\r\n",
        "valor = 0\r\n",
        "valor_limite = 20\r\n",
        "\r\n",
        "while valor <= valor_limite:\r\n",
        "  if valor % 3 == 0 or valor % 5 == 0:\r\n",
        "    soma = soma + valor\r\n",
        "  valor  = valor + 1\r\n",
        "print(soma)"
      ],
      "execution_count": 5,
      "outputs": [
        {
          "output_type": "stream",
          "text": [
            "98\n"
          ],
          "name": "stdout"
        }
      ]
    },
    {
      "cell_type": "code",
      "metadata": {
        "id": "iIESmgpAmYoG"
      },
      "source": [
        ""
      ],
      "execution_count": null,
      "outputs": []
    }
  ]
}