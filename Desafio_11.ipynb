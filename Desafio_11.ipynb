{
  "nbformat": 4,
  "nbformat_minor": 0,
  "metadata": {
    "anaconda-cloud": {},
    "kernelspec": {
      "display_name": "Python 3",
      "language": "python",
      "name": "python3"
    },
    "language_info": {
      "codemirror_mode": {
        "name": "ipython",
        "version": 3
      },
      "file_extension": ".py",
      "mimetype": "text/x-python",
      "name": "python",
      "nbconvert_exporter": "python",
      "pygments_lexer": "ipython3",
      "version": "3.6.5"
    },
    "colab": {
      "name": "Desafio 11.ipynb",
      "provenance": [],
      "include_colab_link": true
    }
  },
  "cells": [
    {
      "cell_type": "markdown",
      "metadata": {
        "id": "view-in-github",
        "colab_type": "text"
      },
      "source": [
        "<a href=\"https://colab.research.google.com/github/bruna-vb/br-python-challenges/blob/master/Desafio_11.ipynb\" target=\"_parent\"><img src=\"https://colab.research.google.com/assets/colab-badge.svg\" alt=\"Open In Colab\"/></a>"
      ]
    },
    {
      "cell_type": "markdown",
      "metadata": {
        "id": "y1R0m4oWf6Jz"
      },
      "source": [
        "### Desafio 8\n",
        "Dados uma sequência com `n` números inteiros, determinar quantos números da sequência são pares e quantos são ímpares. Por exemplo, para a sequência\n",
        "\n",
        "`6   2   7  -5   8  -4`\n",
        "\n",
        "a sua função deve retornar o número 4 para o número de pares e 2 para o de ímpares. A saída deve ser um tupla contendo primeiramente o número de pares e em seguida o número de ímpares. Para o exemplo anterior, a saída seria `(4, 2)`."
      ]
    },
    {
      "cell_type": "code",
      "metadata": {
        "id": "y_iM2tgF35t7"
      },
      "source": [
        "# Não modifique o código abaixo! Vamos testar algumas entradas\n",
        "msg_erro = \"Saída da função para a entrada {} deveria ser {}\"\n",
        "\n",
        "entrada = [6, 2, 7, -5, 8, -4]\n",
        "saida_esperada = (4, 2)\n",
        "assert contar_pares_impares(entrada)==saida_esperada, msg_erro.format(entrada, saida_esperada)\n",
        "\n",
        "entrada = [-3, 2, 7, -5, 8, -4]\n",
        "saida_esperada = (3, 3)\n",
        "assert contar_pares_impares(entrada)==saida_esperada, msg_erro.format(entrada, saida_esperada)\n",
        "\n",
        "\n",
        "# Se nenhuma mensagem for impressa abaixo, significa que a função está implementada corretamente"
      ],
      "execution_count": null,
      "outputs": []
    },
    {
      "cell_type": "markdown",
      "metadata": {
        "id": "IswO-7-yoQCX"
      },
      "source": [
        "###Tentativa 1:"
      ]
    },
    {
      "cell_type": "code",
      "metadata": {
        "id": "pSIzX4zUf6Jz"
      },
      "source": [
        "# Seu código\n",
        "def contar_pares_impares(entrada):\n",
        "    pass"
      ],
      "execution_count": null,
      "outputs": []
    },
    {
      "cell_type": "code",
      "metadata": {
        "id": "UwT4tLtzR3_U"
      },
      "source": [
        "#entrada = [6, 2, 7, -5, 8, -4]\r\n",
        "def contar_pares_impares(sequencia):\r\n",
        "  qnt_pares = 0\r\n",
        "  qnt_impares = 0\r\n",
        "  for numero in sequencia:\r\n",
        "    if numero % 2 == 0:\r\n",
        "      qnt_pares = qnt_pares + 1\r\n",
        "    else:\r\n",
        "      qnt_impares = qnt_impares + 1\r\n",
        "  lista = qnt_pares, qnt_impares\r\n",
        "  print(lista)"
      ],
      "execution_count": 2,
      "outputs": []
    },
    {
      "cell_type": "code",
      "metadata": {
        "id": "8ypUV3sTobeN",
        "outputId": "868f460c-5b5e-42eb-f1c1-4d6d21cc4c07",
        "colab": {
          "base_uri": "https://localhost:8080/"
        }
      },
      "source": [
        "contar_pares_impares([6, 2, 7, -5, 8, -4])"
      ],
      "execution_count": 4,
      "outputs": [
        {
          "output_type": "stream",
          "text": [
            "(4, 2)\n"
          ],
          "name": "stdout"
        }
      ]
    },
    {
      "cell_type": "markdown",
      "metadata": {
        "id": "u2Fbi4pco1L7"
      },
      "source": [
        "###Tentativa 2:"
      ]
    },
    {
      "cell_type": "code",
      "metadata": {
        "id": "mIo9ftQJob-U"
      },
      "source": [
        "#numeros = [6, 2, 7, -5, 8, -4]\r\n",
        "def contagem(numeros):\r\n",
        "  lista_par = []\r\n",
        "  lista_impar = []\r\n",
        "  for n in numeros:\r\n",
        "    if n % 2 == 0:\r\n",
        "      lista_par.append(n)\r\n",
        "    else:\r\n",
        "      lista_impar.append(n)\r\n",
        "\r\n",
        "  resultado = [len(lista_par), len(lista_impar)] #len aqui me traz a quantidade de itens dentro da lista\r\n",
        "  print(resultado)"
      ],
      "execution_count": 11,
      "outputs": []
    },
    {
      "cell_type": "code",
      "metadata": {
        "id": "cclKRBLtpO58",
        "outputId": "cce2ec1e-4ffc-4023-b31c-90ed26c42aae",
        "colab": {
          "base_uri": "https://localhost:8080/"
        }
      },
      "source": [
        "contagem([6, 2, 7, -5, 8, -4])"
      ],
      "execution_count": 12,
      "outputs": [
        {
          "output_type": "stream",
          "text": [
            "[4, 2]\n"
          ],
          "name": "stdout"
        }
      ]
    },
    {
      "cell_type": "code",
      "metadata": {
        "id": "xOErMexBptkb"
      },
      "source": [
        ""
      ],
      "execution_count": null,
      "outputs": []
    }
  ]
}