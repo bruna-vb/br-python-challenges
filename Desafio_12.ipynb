{
  "nbformat": 4,
  "nbformat_minor": 0,
  "metadata": {
    "anaconda-cloud": {},
    "kernelspec": {
      "display_name": "Python 3",
      "language": "python",
      "name": "python3"
    },
    "language_info": {
      "codemirror_mode": {
        "name": "ipython",
        "version": 3
      },
      "file_extension": ".py",
      "mimetype": "text/x-python",
      "name": "python",
      "nbconvert_exporter": "python",
      "pygments_lexer": "ipython3",
      "version": "3.6.5"
    },
    "colab": {
      "name": "Desafio 12.ipynb",
      "provenance": [],
      "include_colab_link": true
    }
  },
  "cells": [
    {
      "cell_type": "markdown",
      "metadata": {
        "id": "view-in-github",
        "colab_type": "text"
      },
      "source": [
        "<a href=\"https://colab.research.google.com/github/bruna-vb/br-python-challenges/blob/master/Desafio_12.ipynb\" target=\"_parent\"><img src=\"https://colab.research.google.com/assets/colab-badge.svg\" alt=\"Open In Colab\"/></a>"
      ]
    },
    {
      "cell_type": "markdown",
      "metadata": {
        "id": "AYHY2YXQf6J2"
      },
      "source": [
        "### Desafio 12\n",
        "\n",
        "Escreva uma função em Python para verificar a validade de uma senha.\n",
        "\n",
        "Validação:\n",
        "\n",
        "* Pelo menos 1 letra entre [a-z] e 1 letra entre [A-Z].\n",
        "* Pelo menos 1 número entre [0-9].\n",
        "* Pelo menos 1 caractere de [$ # @].\n",
        "* Comprimento mínimo de 6 caracteres.\n",
        "* Comprimento máximo de 16 caracteres.\n",
        "\n",
        "Entradas: \"12345678\", \"J3sus0\", \"#Te5t300\", \"J*90j12374\", \"Michheeul\", \"Monk3y6\"\n",
        "\n",
        "A saída deve ser a senha e um texto indicando se a senha é válida ou inválida:\n",
        "\n",
        "```\n",
        "\"1234\" - Senha inválida\n",
        "\"Qw#1234\" - Senha válida\n",
        "```"
      ]
    },
    {
      "cell_type": "code",
      "metadata": {
        "id": "UGgtGYGGf6J3"
      },
      "source": [
        "# Seu código"
      ],
      "execution_count": null,
      "outputs": []
    },
    {
      "cell_type": "code",
      "metadata": {
        "id": "n8F01NzD9uHm",
        "colab": {
          "base_uri": "https://localhost:8080/"
        },
        "outputId": "e377faea-93d1-4d16-dca7-c05bedeccc12"
      },
      "source": [
        "import re \r\n",
        "senha = \"Qw#a1233h5sr785S25\"\r\n",
        "teste = 0\r\n",
        "while True:\r\n",
        "  if not (6 <= len(senha) <= 16):\r\n",
        "    teste = -1\r\n",
        "    print('Senha não está entre 6 e 16 caracteres')\r\n",
        "    break\r\n",
        "  elif not re.search(\"[a-z]\", senha):\r\n",
        "    teste = -1\r\n",
        "    print('Senha não contém caracteres minúsculos')\r\n",
        "    break\r\n",
        "  elif not re.search(\"[A-Z]\", senha):\r\n",
        "    teste = -1\r\n",
        "    print('Senha não contém caracteres maiúsculos')\r\n",
        "    break\r\n",
        "  elif not re.search(\"[0-9]\", senha):\r\n",
        "    teste = -1\r\n",
        "    print('Senha não contém numéricos')\r\n",
        "    break\r\n",
        "  elif not re.search(\"[#@$]\", senha):\r\n",
        "    teste = -1\r\n",
        "    print('Senha não contém caracteres especiais')\r\n",
        "    break\r\n",
        "  elif re.search(\"\\s\", senha):\r\n",
        "    teste = -1\r\n",
        "    print('Senha contém espaços')\r\n",
        "    break\r\n",
        "  else:\r\n",
        "    teste = 0\r\n",
        "    print(\"Senha Válida\")\r\n",
        "    break\r\n",
        "        \r\n",
        "if teste ==-1:\r\n",
        "\tprint(\"Senha Inválida\")"
      ],
      "execution_count": 1,
      "outputs": [
        {
          "output_type": "stream",
          "text": [
            "Senha não está entre 6 e 16 caracteres\n",
            "Senha Inválida\n"
          ],
          "name": "stdout"
        }
      ]
    },
    {
      "cell_type": "code",
      "metadata": {
        "id": "_VXFiVPgnx2z"
      },
      "source": [
        ""
      ],
      "execution_count": null,
      "outputs": []
    }
  ]
}